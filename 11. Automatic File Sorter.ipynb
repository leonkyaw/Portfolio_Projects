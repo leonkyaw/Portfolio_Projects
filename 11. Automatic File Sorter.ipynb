{
 "cells": [
  {
   "cell_type": "markdown",
   "id": "8f058357",
   "metadata": {},
   "source": [
    "# Automatic File Sorter in File Explorer"
   ]
  },
  {
   "cell_type": "code",
   "execution_count": 25,
   "id": "bf8603a3",
   "metadata": {},
   "outputs": [],
   "source": [
    "# os = operating system, \n",
    "# shutil= allows us to do high level operation on our file in file explorer\n",
    "\n",
    "import os, shutil "
   ]
  },
  {
   "cell_type": "code",
   "execution_count": 26,
   "id": "56ccd640",
   "metadata": {},
   "outputs": [],
   "source": [
    "# need to end with \"/\" or else the file will be created in Data Analyst folder not sorter folder\n",
    "path = r'/Users/leon/Documents/Personal/Online Class/Data Analyst Bootcamp (Alex the Analyst)/Python/Automatic File Sorter/'"
   ]
  },
  {
   "cell_type": "code",
   "execution_count": 36,
   "id": "64f38430",
   "metadata": {},
   "outputs": [],
   "source": [
    "# show all the files in the path\n",
    "file_name = os.listdir(path)"
   ]
  },
  {
   "cell_type": "code",
   "execution_count": 30,
   "id": "b2c17044",
   "metadata": {},
   "outputs": [
    {
     "data": {
      "text/plain": [
       "False"
      ]
     },
     "execution_count": 30,
     "metadata": {},
     "output_type": "execute_result"
    }
   ],
   "source": [
    "# just to check if the folder is existed in the path\n",
    "os.path.exists(path + 'csv files')"
   ]
  },
  {
   "cell_type": "code",
   "execution_count": 35,
   "id": "39be0803",
   "metadata": {},
   "outputs": [],
   "source": [
    "# using if not because using \"if\" meaning if the folder exist as there is not folder in \n",
    "# the path and the folder will never be created.\n",
    "\n",
    "folder_name = ['csv files','image files','text files']\n",
    "\n",
    "for loop in range(len(folder_name)):\n",
    "    if not os.path.exists(path + folder_name[loop]):\n",
    "        os.makedirs(path + folder_name[loop])\n"
   ]
  },
  {
   "cell_type": "code",
   "execution_count": 39,
   "id": "5daf1628",
   "metadata": {},
   "outputs": [],
   "source": [
    "# loop through the file in the path and check the file type and \n",
    "# check if the file is already in the path\n",
    "\n",
    "for file in file_name:\n",
    "    if \".csv\" in file and not os.path.exists(path + \"csv files/\" + file):\n",
    "        shutil.move(path + file,path + \"csv files/\" + file)\n",
    "    elif \".jpg\" in file and not os.path.exists(path + \"image files/\" + file):\n",
    "        shutil.move(path + file,path + \"image files/\" + file)\n",
    "    elif \".txt\" in file and not os.path.exists(path + \"text files/\" + file):\n",
    "        shutil.move(path + file,path + \"text files/\" + file)\n",
    "    else:\n",
    "        print('there are files in this path that were not moved')"
   ]
  }
 ],
 "metadata": {
  "kernelspec": {
   "display_name": "Python 3 (ipykernel)",
   "language": "python",
   "name": "python3"
  },
  "language_info": {
   "codemirror_mode": {
    "name": "ipython",
    "version": 3
   },
   "file_extension": ".py",
   "mimetype": "text/x-python",
   "name": "python",
   "nbconvert_exporter": "python",
   "pygments_lexer": "ipython3",
   "version": "3.9.7"
  }
 },
 "nbformat": 4,
 "nbformat_minor": 5
}
